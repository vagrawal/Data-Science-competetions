{
 "cells": [
  {
   "cell_type": "code",
   "execution_count": 1,
   "metadata": {
    "collapsed": false
   },
   "outputs": [],
   "source": [
    "import pandas as pd\n",
    "import numpy as np\n",
    "import datetime\n",
    "import time\n",
    "import os\n",
    "from sklearn.ensemble import GradientBoostingClassifier\n",
    "from sklearn.ensemble import RandomForestClassifier"
   ]
  },
  {
   "cell_type": "code",
   "execution_count": null,
   "metadata": {
    "collapsed": false
   },
   "outputs": [],
   "source": [
    "train = pd.read_csv('train.csv')\n",
    "test = pd.read_csv('test.csv')"
   ]
  },
  {
   "cell_type": "code",
   "execution_count": null,
   "metadata": {
    "collapsed": false
   },
   "outputs": [
    {
     "name": "stdout",
     "output_type": "stream",
     "text": [
      "Calculate hour, weekday, month and year for train and test\n",
      "<class 'pandas.core.frame.DataFrame'>\n",
      "RangeIndex: 29118021 entries, 0 to 29118020\n",
      "Data columns (total 10 columns):\n",
      "row_id      int64\n",
      "x           float64\n",
      "y           float64\n",
      "accuracy    int64\n",
      "time        int64\n",
      "place_id    int64\n",
      "hour        int64\n",
      "weekday     int64\n",
      "month       int64\n",
      "year        int64\n",
      "dtypes: float64(2), int64(8)\n",
      "memory usage: 2.2 GB\n",
      "None\n",
      "<class 'pandas.core.frame.DataFrame'>\n",
      "RangeIndex: 8607230 entries, 0 to 8607229\n",
      "Data columns (total 9 columns):\n",
      "row_id      int64\n",
      "x           float64\n",
      "y           float64\n",
      "accuracy    int64\n",
      "time        int64\n",
      "hour        int64\n",
      "weekday     int64\n",
      "month       int64\n",
      "year        int64\n",
      "dtypes: float64(2), int64(7)\n",
      "memory usage: 591.0 MB\n",
      "None\n"
     ]
    }
   ],
   "source": [
    "start_time = time.time()\n",
    "\n",
    "size = 10.0;\n",
    "\n",
    "x_step = 0.5\n",
    "y_step = 0.1\n",
    "\n",
    "print('Calculate hour, weekday, month and year for train and test')\n",
    "train['hour'] = (train['time']//60)%24+1 # 1 to 24\n",
    "train['weekday'] = (train['time']//1440)%7+1\n",
    "train['month'] = (train['time']//43200)%12+1 # rough estimate, month = 30 days\n",
    "train['year'] = (train['time']//525600)+1 \n",
    "print (train.info())\n",
    "\n",
    "test['hour'] = (test['time']//60)%24+1 # 1 to 24\n",
    "test['weekday'] = (test['time']//1440)%7+1\n",
    "test['month'] = (test['time']//43200)%12+1 # rough estimate, month = 30 days\n",
    "test['year'] = (test['time']//525600)+1\n",
    "print (test.info())\n",
    "\n",
    "#print 'shape after time engineering'\n",
    "#print train.shape\n",
    "#print test.shape\n",
    "\n",
    "preds_total = pd.DataFrame()\n",
    "for i in range((int)(size/x_step)):\n",
    "    x_min = x_step * i\n",
    "    x_max = x_step * (i+1)\n",
    "    x_min = round(x_min, 4)\n",
    "    x_max = round(x_max, 4)\n",
    "    start_time_row = time.time()\n",
    "    if x_max == size:\n",
    "        x_max = x_max + 0.001\n",
    "    \n",
    "    for j in range((int)(size/y_step)):\n",
    "        start_time_cell = time.time()\n",
    "        #start_time_cell = time.time()\n",
    "        y_min = y_step * j\n",
    "        y_max = y_step * (j+1)\n",
    "        y_min = round(y_min, 4)\n",
    "        y_max = round(y_max, 4)   \n",
    "        if y_max == size:\n",
    "            y_max = y_max + 0.001\n",
    "        \n",
    "        train_grid = train[(train['x'] >= x_min) &\n",
    "                           (train['x'] < x_max) &\n",
    "                           (train['y'] >= y_min) &\n",
    "                           (train['y'] < y_max)]\n",
    "\n",
    "        test_grid = test[(test['x'] >= x_min) &\n",
    "                         (test['x'] < x_max) &\n",
    "                         (test['y'] >= y_min) &\n",
    "                         (test['y'] < y_max)]\n",
    "        \n",
    "        X_train_grid = train_grid[['x','y','accuracy', 'hour', 'weekday', 'month', 'year']];\n",
    "        y_train_grid = train_grid[['place_id']].values.ravel();\n",
    "        X_test_grid = test_grid[['x','y','accuracy','hour', 'weekday', 'month', 'year']];\n",
    "        \n",
    "        #clf = GradientBoostingClassifier();\n",
    "        #clf = LogisticRegression(multi_class='multinomial', solver = 'lbfgs');\n",
    "        #clf = xgb.XGBClassifier(n_estimators=10);\n",
    "        clf = RandomForestClassifier(n_estimators = 100, n_jobs = -1,random_state=0);\n",
    "        clf.fit(X_train_grid, y_train_grid)\n",
    "        \n",
    "        preds = dict(zip([el for el in clf.classes_], zip(*clf.predict_proba(X_test_grid))))\n",
    "        preds = pd.DataFrame.from_dict(preds)\n",
    "        \n",
    "        preds['0_'], preds['1_'], preds['2_'] = zip(*preds.apply(lambda x: preds.columns[x.argsort()[::-1][:3]].tolist(), axis=1));\n",
    "        preds = preds[['0_','1_','2_']];\n",
    "        preds['row_id'] = test_grid['row_id'].reset_index(drop=True);\n",
    "        preds['x'] = test_grid['x'].reset_index(drop=True);\n",
    "        preds['y'] = test_grid['y'].reset_index(drop=True);\n",
    "        preds_total = pd.concat([preds_total, preds], axis=0);\n",
    "        #print(\"Elapsed time cell: %s seconds\" % (time.time() - start_time_cell))\n",
    "    print(\"Elapsed time row: %s seconds\" % (time.time() - start_time_cell))\n",
    "    \n",
    "preds_total = preds_total.sort_values('row_id')\n",
    "print (preds_total)\n",
    "print (preds_total.info())\n",
    "\n",
    "preds_total['place_id'] = preds_total[['0_', '1_', '2_']].apply(lambda x: ' '.join([str(x1) for x1 in x]), axis=1)\n",
    "preds_total.drop('0_', axis=1, inplace=True)\n",
    "preds_total.drop('1_', axis=1, inplace=True)\n",
    "preds_total.drop('2_', axis=1, inplace=True)\n",
    "sub_file = os.path.join('rf_submission_' + str(datetime.datetime.now().strftime(\"%Y-%m-%d-%H-%M\")) + '.csv')\n",
    "preds_total.to_csv(sub_file,index=False)\n",
    "print(\"Elapsed time overall: %s seconds\" % (time.time() - start_time))"
   ]
  },
  {
   "cell_type": "code",
   "execution_count": null,
   "metadata": {
    "collapsed": false
   },
   "outputs": [],
   "source": [
    "!ls"
   ]
  },
  {
   "cell_type": "code",
   "execution_count": null,
   "metadata": {
    "collapsed": true
   },
   "outputs": [],
   "source": []
  }
 ],
 "metadata": {
  "kernelspec": {
   "display_name": "Python 3",
   "language": "python",
   "name": "python3"
  },
  "language_info": {
   "codemirror_mode": {
    "name": "ipython",
    "version": 3
   },
   "file_extension": ".py",
   "mimetype": "text/x-python",
   "name": "python",
   "nbconvert_exporter": "python",
   "pygments_lexer": "ipython3",
   "version": "3.5.1"
  }
 },
 "nbformat": 4,
 "nbformat_minor": 0
}
