{
 "cells": [
  {
   "cell_type": "code",
   "execution_count": 1,
   "metadata": {
    "collapsed": true
   },
   "outputs": [],
   "source": [
    "import numpy as np\n",
    "import pandas as pd\n",
    "from sklearn.preprocessing import LabelEncoder\n",
    "from sklearn.ensemble import RandomForestClassifier\n",
    "import datetime\n",
    "import time"
   ]
  },
  {
   "cell_type": "code",
   "execution_count": 2,
   "metadata": {
    "collapsed": true
   },
   "outputs": [],
   "source": [
    "#Defining the size of the grid\n",
    "n_cell_x = 20\n",
    "n_cell_y = 40 \n",
    "\n",
    "def cells_around(center):\n",
    "    cells = []\n",
    "    for i in range(-1, 2):\n",
    "        for j in range(-1, 2):\n",
    "            cells.append(center + j * n_cell_x + i)\n",
    "    return cells\n",
    "\n",
    "def prepare_data(df, n_cell_x, n_cell_y):\n",
    "    \"\"\"\n",
    "    Feature engineering and computation of the grid.\n",
    "    \"\"\"\n",
    "    #Creating the grid\n",
    "    size_x = 10. / n_cell_x\n",
    "    size_y = 10. / n_cell_y\n",
    "    eps = 0.00001  \n",
    "    xs = np.where(df.x.values < eps, 0, df.x.values - eps)\n",
    "    ys = np.where(df.y.values < eps, 0, df.y.values - eps)\n",
    "    pos_x = (xs / size_x).astype(np.int)\n",
    "    pos_y = (ys / size_y).astype(np.int)\n",
    "    df['grid_cell'] = pos_y * n_cell_x + pos_x\n",
    "    \n",
    "    initial_date = np.datetime64('2014-01-01T01:01', dtype='datetime64[m]') \n",
    "    d_times = pd.DatetimeIndex(initial_date + np.timedelta64(int(mn), 'm') \n",
    "                               for mn in df.time.values)    \n",
    "    df['hour'] = (d_times.hour + d_times.minute/60)\n",
    "    df['weekday'] = d_times.weekday\n",
    "    df['day'] = d_times.dayofyear\n",
    "    df['month'] = d_times.month\n",
    "    df['year'] = (d_times.year - 2013)\n",
    "\n",
    "    df = df.drop(['time'], axis=1) \n",
    "    return df\n",
    "    \n",
    "\n",
    "def process_one_cell(df_train, df_test, grid_id, th):\n",
    "    \"\"\"   \n",
    "    Classification inside one grid cell.\n",
    "    \"\"\"   \n",
    "    #Working on df_train\n",
    "    df_cell_train = df_train.loc[df_train.grid_cell.isin(cells_around(grid_id))]\n",
    "    place_counts = df_cell_train.place_id.value_counts()\n",
    "    mask = (place_counts[df_cell_train.place_id.values] >= th).values\n",
    "    df_cell_train = df_cell_train.loc[mask]\n",
    "\n",
    "    #Working on df_test\n",
    "    df_cell_test = df_test.loc[df_test.grid_cell == grid_id]\n",
    "    row_ids = df_cell_test.index\n",
    "    \n",
    "    #Preparing data\n",
    "    le = LabelEncoder()\n",
    "    y = le.fit_transform(df_cell_train.place_id.values)\n",
    "    X = df_cell_train.drop(['place_id', 'grid_cell'], axis=1).values.astype(int)\n",
    "    X_test = df_cell_test.drop(['grid_cell'], axis = 1).values.astype(int)\n",
    "    \n",
    "    #Applying the classifier\n",
    "    clf = RandomForestClassifier(10, n_jobs = -1)\n",
    "    clf.fit(X, y)\n",
    "    y_pred = clf.predict_proba(X_test)\n",
    "    pred_labels = le.inverse_transform(np.argsort(y_pred, axis=1)[:,::-1][:,:3])    \n",
    "    return pred_labels, row_ids"
   ]
  },
  {
   "cell_type": "code",
   "execution_count": null,
   "metadata": {
    "collapsed": false
   },
   "outputs": [
    {
     "name": "stdout",
     "output_type": "stream",
     "text": [
      "Loading data ...\n",
      "Preparing train data\n",
      "Preparing test data\n"
     ]
    }
   ],
   "source": [
    "print('Loading data ...')\n",
    "df_train = pd.read_csv('train.csv',\n",
    "                       usecols=['row_id','x','y','time','place_id'], \n",
    "                       index_col = 0)\n",
    "df_test = pd.read_csv('test.csv',\n",
    "                      usecols=['row_id','x','y','time'],\n",
    "                      index_col = 0)\n",
    "\n",
    "print('Preparing train data')\n",
    "df_train = prepare_data(df_train, n_cell_x, n_cell_y)\n",
    "print('Preparing test data')\n",
    "df_test = prepare_data(df_test, n_cell_x, n_cell_y)"
   ]
  },
  {
   "cell_type": "code",
   "execution_count": null,
   "metadata": {
    "collapsed": false
   },
   "outputs": [
    {
     "name": "stdout",
     "output_type": "stream",
     "text": [
      "iter: 0\n",
      "Elapsed time : 0.000400543212890625 seconds\n",
      "iter: 20\n",
      "Elapsed time : 85.64502954483032 seconds\n"
     ]
    }
   ],
   "source": [
    "start_time = time.time()\n",
    "\n",
    "#Solving classification problems inside each grid cell\n",
    "th = 5 #Keeping place_ids with more than th samples.\n",
    "n_cells = n_cell_x*n_cell_y\n",
    "preds = np.zeros((df_test.shape[0], 3), dtype=int)\n",
    "\n",
    "for g_id in range(n_cells):\n",
    "    if g_id % 20 == 0:\n",
    "        print('iter: %s' %(g_id))\n",
    "        print(\"Elapsed time : %s seconds\" % (time.time() - start_time))\n",
    "    \n",
    "    #Applying classifier to one grid cell\n",
    "    pred_labels, row_ids = process_one_cell(df_train, df_test, g_id, th)\n",
    "    #Updating predictions\n",
    "    preds[row_ids] = pred_labels\n",
    "print('Generating submission file ...')\n",
    "#Auxiliary dataframe with the 3 best predictions for each sample\n",
    "df_aux = pd.DataFrame(preds, dtype=str, columns=['l1', 'l2', 'l3'])  \n",
    "#Concatenating the 3 predictions for each sample\n",
    "ds_sub = df_aux.l1.str.cat([df_aux.l2, df_aux.l3], sep=' ')\n",
    "#Writting to csv\n",
    "ds_sub.name = 'place_id'\n",
    "ds_sub.to_csv('knn_submission_' + str(datetime.datetime.now().strftime(\"%Y-%m-%d-%H-%M\")) + '.csv',\n",
    "              index=True, header=True, index_label='row_id')         "
   ]
  },
  {
   "cell_type": "code",
   "execution_count": 5,
   "metadata": {
    "collapsed": false
   },
   "outputs": [
    {
     "name": "stdout",
     "output_type": "stream",
     "text": [
      "accuracy exploration.ipynb\t     test.csv\r\n",
      "knn_blocks-Copy1.ipynb\t\t     train.csv\r\n",
      "knn_blocks-Copy2.ipynb\t\t     Untitled1.ipynb\r\n",
      "knn_blocks.ipynb\t\t     Untitled.ipynb\r\n",
      "knn_submission_2016-06-13-10-50.csv  untitled.txt\r\n",
      "rf_blocks.ipynb\r\n"
     ]
    }
   ],
   "source": [
    "!ls"
   ]
  },
  {
   "cell_type": "code",
   "execution_count": 6,
   "metadata": {
    "collapsed": false
   },
   "outputs": [
    {
     "name": "stdout",
     "output_type": "stream",
     "text": [
      "\r\n",
      "New 'X' desktop is ip-172-31-50-254:1\r\n",
      "\r\n",
      "Starting applications specified in /home/ubuntu/.vnc/xstartup\r\n",
      "Log file is /home/ubuntu/.vnc/ip-172-31-50-254:1.log\r\n",
      "\r\n"
     ]
    }
   ],
   "source": [
    "!vncserver"
   ]
  },
  {
   "cell_type": "code",
   "execution_count": null,
   "metadata": {
    "collapsed": true
   },
   "outputs": [],
   "source": []
  }
 ],
 "metadata": {
  "kernelspec": {
   "display_name": "Python 3",
   "language": "python",
   "name": "python3"
  },
  "language_info": {
   "codemirror_mode": {
    "name": "ipython",
    "version": 3
   },
   "file_extension": ".py",
   "mimetype": "text/x-python",
   "name": "python",
   "nbconvert_exporter": "python",
   "pygments_lexer": "ipython3",
   "version": "3.5.1"
  }
 },
 "nbformat": 4,
 "nbformat_minor": 0
}
