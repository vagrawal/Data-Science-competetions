{
 "cells": [
  {
   "cell_type": "code",
   "execution_count": 1,
   "metadata": {
    "collapsed": false
   },
   "outputs": [],
   "source": [
    "import numpy as np\n",
    "import pandas as pd\n",
    "from subprocess import check_output\n",
    "import matplotlib.pyplot as plt"
   ]
  },
  {
   "cell_type": "code",
   "execution_count": null,
   "metadata": {
    "collapsed": false
   },
   "outputs": [],
   "source": [
    "df = pd.read_csv(\"train.csv\")"
   ]
  },
  {
   "cell_type": "code",
   "execution_count": null,
   "metadata": {
    "collapsed": true
   },
   "outputs": [],
   "source": [
    "var = {}\n",
    "value_counts = df[\"place_id\"].astype(\"category\").value_counts()\n",
    "for i in value_counts[value_counts >= 1500].index:\n",
    "    var[i] = df[df[\"place_id\"]==i][\"x\"].var()\n",
    "var_df = pd.DataFrame.from_dict(var, orient='index');"
   ]
  },
  {
   "cell_type": "code",
   "execution_count": null,
   "metadata": {
    "collapsed": true
   },
   "outputs": [],
   "source": [
    "fig, axs = plt.subplots(3,3, figsize=(25, 10))\n",
    "axs = axs.ravel()\n",
    "j = 0\n",
    "for i in var_df.sort_values(by=0, ascending=False)[:9].index:\n",
    "    axs[j].set_xlim([0, 10])\n",
    "    #axs[j].set_ylim([0, 10])\n",
    "\n",
    "    #axs[j].scatter(df[df[\"place_id\"]==i][\"x\"], df[df[\"place_id\"]==i][\"y\"],s=1);\n",
    "    #df[df[\"place_id\"]==i][\"x\"].plot(kind='density');\n",
    "    axs[j].hist(df[df[\"place_id\"]==i][\"x\"], 400, histtype = 'step');\n",
    "    j = j+1;"
   ]
  },
  {
   "cell_type": "code",
   "execution_count": null,
   "metadata": {
    "collapsed": true
   },
   "outputs": [],
   "source": []
  }
 ],
 "metadata": {
  "kernelspec": {
   "display_name": "Python 3",
   "language": "python",
   "name": "python3"
  },
  "language_info": {
   "codemirror_mode": {
    "name": "ipython",
    "version": 3
   },
   "file_extension": ".py",
   "mimetype": "text/x-python",
   "name": "python",
   "nbconvert_exporter": "python",
   "pygments_lexer": "ipython3",
   "version": "3.5.1"
  }
 },
 "nbformat": 4,
 "nbformat_minor": 0
}
