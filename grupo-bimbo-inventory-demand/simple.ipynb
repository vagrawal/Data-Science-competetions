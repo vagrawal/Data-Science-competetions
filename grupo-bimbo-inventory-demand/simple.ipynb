{
 "cells": [
  {
   "cell_type": "code",
   "execution_count": 1,
   "metadata": {
    "collapsed": true
   },
   "outputs": [],
   "source": [
    "# coding: utf-8\n",
    "__author__ = 'ZFTurbo: https://kaggle.com/zfturbo'\n",
    "\n",
    "import datetime\n",
    "import time\n",
    "from collections import defaultdict\n",
    "import gc\n",
    "from math import log, exp"
   ]
  },
  {
   "cell_type": "code",
   "execution_count": 2,
   "metadata": {
    "collapsed": false
   },
   "outputs": [
    {
     "name": "stdout",
     "output_type": "stream",
     "text": [
      "Preparing arrays...\n",
      "Read 10000000 lines...\n",
      "Elapsed time: 59.55959415435791 seconds\n",
      "Read 20000000 lines...\n",
      "Elapsed time: 117.69261026382446 seconds\n",
      "Read 30000000 lines...\n",
      "Elapsed time: 174.77034378051758 seconds\n",
      "Read 40000000 lines...\n",
      "Elapsed time: 231.94929766654968 seconds\n",
      "Read 50000000 lines...\n",
      "Elapsed time: 289.1827416419983 seconds\n",
      "Read 60000000 lines...\n",
      "Elapsed time: 348.43987917900085 seconds\n",
      "Read 70000000 lines...\n",
      "Elapsed time: 405.5716893672943 seconds\n",
      "Average target:  1.6029126149981423\n"
     ]
    }
   ],
   "source": [
    "start_time = time.time()\n",
    "print('Preparing arrays...')\n",
    "f = open(\"train.csv\", \"r\")\n",
    "f.readline()\n",
    "total = 0\n",
    "\n",
    "client_product_arr = defaultdict(int)\n",
    "client_product_arr_count = defaultdict(int)\n",
    "client_arr = defaultdict(int)\n",
    "client_arr_count = defaultdict(int)\n",
    "product_arr = defaultdict(int)\n",
    "product_arr_count = defaultdict(int)\n",
    "\n",
    "# Calc counts\n",
    "avg_target = 0.0\n",
    "while 1:\n",
    "    line = f.readline().strip()\n",
    "\n",
    "    if total % 10000000 == 0:\n",
    "        print('Read {} lines...'.format(total))\n",
    "        print(\"Elapsed time: %s seconds\" % (time.time() - start_time))\n",
    "        \n",
    "    total += 1\n",
    "\n",
    "    if line == '':\n",
    "        break\n",
    "\n",
    "    arr = line.split(\",\")\n",
    "    week = int(arr[0])\n",
    "    agency = arr[1]\n",
    "    canal_id = arr[2]\n",
    "    ruta_sak = arr[3]\n",
    "    cliente_id = int(arr[4])\n",
    "    producto_id = int(arr[5])\n",
    "    vuh = arr[6]\n",
    "    vh = arr[7]\n",
    "    dup = arr[8]\n",
    "    dp = arr[9]\n",
    "    target = log(float(arr[10]) + 1)\n",
    "    avg_target += target\n",
    "\n",
    "    client_product_arr[(cliente_id, producto_id)] += target\n",
    "    client_product_arr_count[(cliente_id, producto_id)] += 1\n",
    "    client_arr[cliente_id] += target\n",
    "    client_arr_count[cliente_id] += 1\n",
    "    product_arr[producto_id] += target\n",
    "    product_arr_count[producto_id] += 1\n",
    "\n",
    "f.close()\n",
    "\n",
    "avg_target /= total\n",
    "print('Average target: ', avg_target)"
   ]
  },
  {
   "cell_type": "code",
   "execution_count": 4,
   "metadata": {
    "collapsed": false
   },
   "outputs": [
    {
     "name": "stdout",
     "output_type": "stream",
     "text": [
      "Generate submission...\n",
      "Both: 5634038\n",
      "Client: 1335159\n",
      "Product: 29936\n",
      "Empty: 118\n",
      "Elapsed time overall: 533.5136871337891 seconds\n"
     ]
    }
   ],
   "source": [
    "print('Generate submission...')\n",
    "now = datetime.datetime.now()\n",
    "path = 'submission_' + str(now.strftime(\"%Y-%m-%d-%H-%M\")) + '.csv'\n",
    "out = open(path, \"w\")\n",
    "f = open(\"test.csv\", \"r\")\n",
    "f.readline()\n",
    "total = 0\n",
    "out.write(\"id,Demanda_uni_equil\\n\")\n",
    "\n",
    "index_both = 0\n",
    "index_client = 0\n",
    "index_product = 0\n",
    "index_empty = 0\n",
    "\n",
    "while 1:\n",
    "    line = f.readline().strip()\n",
    "    total += 1\n",
    "\n",
    "    if total % 10000000 == 0:\n",
    "        print('Write {} lines...'.format(total))\n",
    "        print(\"Elapsed time: %s seconds\" % (time.time() - start_time))\n",
    "\n",
    "    if line == '':\n",
    "        break\n",
    "\n",
    "    arr = line.split(\",\")\n",
    "    id = arr[0]\n",
    "    week = int(arr[1])\n",
    "    agency = arr[2]\n",
    "    canal_id = arr[3]\n",
    "    ruta_sak = arr[4]\n",
    "    cliente_id = int(arr[5])\n",
    "    producto_id = int(arr[6])\n",
    "\n",
    "    out.write(str(id) + ',')\n",
    "    if (cliente_id, producto_id) in client_product_arr:\n",
    "        val = client_product_arr[(cliente_id, producto_id)]/client_product_arr_count[(cliente_id, producto_id)]\n",
    "        out.write(str(exp(val) - 1))\n",
    "        index_both += 1\n",
    "    elif cliente_id in client_arr:\n",
    "        val = client_arr[cliente_id]/client_arr_count[cliente_id]\n",
    "        out.write(str(exp(val) - 1))\n",
    "        index_client += 1\n",
    "    elif producto_id in product_arr:\n",
    "        val = product_arr[producto_id]/product_arr_count[producto_id]\n",
    "        out.write(str(exp(val) - 1))\n",
    "        index_product += 1\n",
    "    else:\n",
    "        out.write(str(exp(avg_target) - 1))\n",
    "        index_empty += 1\n",
    "    out.write(\"\\n\")\n",
    "\n",
    "print('Both: {}'.format(index_both))\n",
    "print('Client: {}'.format(index_client))\n",
    "print('Product: {}'.format(index_product))\n",
    "print('Empty: {}'.format(index_empty))\n",
    "\n",
    "out.close()\n",
    "f.close()\n",
    "\n",
    "print(\"Elapsed time overall: %s seconds\" % (time.time() - start_time))"
   ]
  },
  {
   "cell_type": "code",
   "execution_count": null,
   "metadata": {
    "collapsed": false
   },
   "outputs": [],
   "source": [
    "import pandas as pd\n",
    "pd.read_csv(\"train.csv\")"
   ]
  },
  {
   "cell_type": "code",
   "execution_count": 5,
   "metadata": {
    "collapsed": false
   },
   "outputs": [
    {
     "name": "stdout",
     "output_type": "stream",
     "text": [
      "Exploration.ipynb  submission_2016-06-12-16-32.csv  test.csv\r\n",
      "simple.ipynb\t   submission_2016-06-12-16-33.csv  train.csv\r\n"
     ]
    }
   ],
   "source": [
    "!ls"
   ]
  },
  {
   "cell_type": "code",
   "execution_count": null,
   "metadata": {
    "collapsed": true
   },
   "outputs": [],
   "source": []
  }
 ],
 "metadata": {
  "kernelspec": {
   "display_name": "Python 3",
   "language": "python",
   "name": "python3"
  },
  "language_info": {
   "codemirror_mode": {
    "name": "ipython",
    "version": 3
   },
   "file_extension": ".py",
   "mimetype": "text/x-python",
   "name": "python",
   "nbconvert_exporter": "python",
   "pygments_lexer": "ipython3",
   "version": "3.5.1"
  }
 },
 "nbformat": 4,
 "nbformat_minor": 0
}
