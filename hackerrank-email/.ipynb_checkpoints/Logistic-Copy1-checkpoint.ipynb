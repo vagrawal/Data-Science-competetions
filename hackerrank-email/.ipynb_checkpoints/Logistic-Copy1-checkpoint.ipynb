{
 "cells": [
  {
   "cell_type": "code",
   "execution_count": 1,
   "metadata": {
    "collapsed": true
   },
   "outputs": [],
   "source": [
    "%matplotlib inline\n",
    "import numpy as np\n",
    "import pandas as pd\n",
    "\n",
    "from sklearn.linear_model import LogisticRegression\n",
    "from sklearn.cross_validation import train_test_split\n",
    "from sklearn.metrics import log_loss"
   ]
  },
  {
   "cell_type": "code",
   "execution_count": 2,
   "metadata": {
    "collapsed": true
   },
   "outputs": [],
   "source": [
    "df_train = pd.read_csv('training_dataset.csv')\n",
    "df_test = pd.read_csv('test_dataset.csv')"
   ]
  },
  {
   "cell_type": "code",
   "execution_count": 49,
   "metadata": {
    "collapsed": false,
    "scrolled": true
   },
   "outputs": [
    {
     "name": "stdout",
     "output_type": "stream",
     "text": [
      "891 2581 43254 1879 0.256624423963 0.321660649819 5.00561167228 0.285485421339\n"
     ]
    }
   ],
   "source": [
    "X_train, X_test, y_train, y_test = train_test_split(df_train[['user_id', 'clicked']], df_train['clicked'], test_size=0.1)\n",
    "\n",
    "ground = (y_test == 1)\n",
    "user_clicked = X_train.groupby('user_id').mean()\n",
    "df_train.groupby(['mail_category', 'mail_type']).mean()\n",
    "list_users = user_clicked[user_clicked['clicked'] > 0.2].index.values\n",
    "pred = X_test['user_id'].isin(list_users)\n",
    "\n",
    "TP = (pred & ground).sum()\n",
    "FP = (pred & ~ground).sum()\n",
    "TN = (~pred & ~ground).sum()\n",
    "FN = (~pred & ground).sum()\n",
    "P = TP / (TP + FP)\n",
    "R = TP / (TP + FN)\n",
    "S = 2 * P * R / (P + R)\n",
    "Rat = (FP + FN) / TP\n",
    "print(TP, FP, TN, FN, P, R, Rat, S)"
   ]
  },
  {
   "cell_type": "code",
   "execution_count": 40,
   "metadata": {
    "collapsed": true
   },
   "outputs": [
    {
     "data": {
      "text/plain": [
       "mail_category     mail_type  \n",
       "mail_category_1   mail_type_1    0.083567\n",
       "mail_category_10  mail_type_1    0.035595\n",
       "mail_category_11  mail_type_1    0.098312\n",
       "mail_category_12  mail_type_1    0.067260\n",
       "mail_category_13  mail_type_2    0.101084\n",
       "mail_category_14  mail_type_1    0.067416\n",
       "mail_category_15  mail_type_3    0.042966\n",
       "mail_category_16  mail_type_1    0.081319\n",
       "mail_category_17  mail_type_4    0.103542\n",
       "mail_category_18  mail_type_1    0.111111\n",
       "mail_category_2   mail_type_1    0.026944\n",
       "mail_category_3   mail_type_1    0.049427\n",
       "mail_category_4   mail_type_1    0.037553\n",
       "mail_category_5   mail_type_1    0.088407\n",
       "mail_category_6   mail_type_1    0.022620\n",
       "mail_category_7   mail_type_1    0.029201\n",
       "mail_category_8   mail_type_1    0.031944\n",
       "mail_category_9   mail_type_1    0.021194\n",
       "Name: clicked, dtype: float64"
      ]
     },
     "execution_count": 40,
     "metadata": {},
     "output_type": "execute_result"
    }
   ],
   "source": [
    "df_train.groupby(['mail_category', 'mail_type']).mean()['clicked']"
   ]
  },
  {
   "cell_type": "code",
   "execution_count": 17,
   "metadata": {
    "collapsed": true
   },
   "outputs": [
    {
     "data": {
      "text/plain": [
       "mail_category     mail_type  \n",
       "mail_category_1   mail_type_1    8706.0\n",
       "mail_category_10  mail_type_1     544.0\n",
       "mail_category_11  mail_type_1      99.0\n",
       "mail_category_12  mail_type_1      68.0\n",
       "mail_category_13  mail_type_2    4260.0\n",
       "mail_category_14  mail_type_1     108.0\n",
       "mail_category_15  mail_type_3    6619.0\n",
       "mail_category_16  mail_type_1      74.0\n",
       "mail_category_17  mail_type_4      76.0\n",
       "mail_category_18  mail_type_1       1.0\n",
       "mail_category_2   mail_type_1     141.0\n",
       "mail_category_3   mail_type_1    3296.0\n",
       "mail_category_4   mail_type_1    1583.0\n",
       "mail_category_5   mail_type_1     106.0\n",
       "mail_category_6   mail_type_1     301.0\n",
       "mail_category_7   mail_type_1     779.0\n",
       "mail_category_8   mail_type_1      95.0\n",
       "mail_category_9   mail_type_1     137.0\n",
       "Name: clicked, dtype: float64"
      ]
     },
     "execution_count": 17,
     "metadata": {},
     "output_type": "execute_result"
    }
   ],
   "source": [
    "df_train.groupby(['mail_category', 'mail_type']).sum()['clicked']"
   ]
  },
  {
   "cell_type": "code",
   "execution_count": 42,
   "metadata": {
    "collapsed": false
   },
   "outputs": [
    {
     "data": {
      "text/plain": [
       "881"
      ]
     },
     "execution_count": 42,
     "metadata": {},
     "output_type": "execute_result"
    }
   ],
   "source": [
    "TP"
   ]
  },
  {
   "cell_type": "code",
   "execution_count": null,
   "metadata": {
    "collapsed": true
   },
   "outputs": [],
   "source": []
  }
 ],
 "metadata": {
  "kernelspec": {
   "display_name": "Python 3",
   "language": "python",
   "name": "python3"
  },
  "language_info": {
   "codemirror_mode": {
    "name": "ipython",
    "version": 3
   },
   "file_extension": ".py",
   "mimetype": "text/x-python",
   "name": "python",
   "nbconvert_exporter": "python",
   "pygments_lexer": "ipython3",
   "version": "3.5.1"
  }
 },
 "nbformat": 4,
 "nbformat_minor": 0
}
