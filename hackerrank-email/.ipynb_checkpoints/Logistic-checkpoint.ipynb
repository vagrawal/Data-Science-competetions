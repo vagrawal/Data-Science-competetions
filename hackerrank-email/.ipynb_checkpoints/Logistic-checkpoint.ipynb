{
 "cells": [
  {
   "cell_type": "code",
   "execution_count": 1,
   "metadata": {
    "collapsed": true
   },
   "outputs": [],
   "source": [
    "%matplotlib inline\n",
    "import numpy as np\n",
    "import pandas as pd\n",
    "\n",
    "from sklearn.linear_model import LogisticRegression\n",
    "from sklearn.cross_validation import train_test_split\n",
    "from sklearn.metrics import log_loss"
   ]
  },
  {
   "cell_type": "code",
   "execution_count": 2,
   "metadata": {
    "collapsed": true
   },
   "outputs": [],
   "source": [
    "df_train = pd.read_csv('training_dataset.csv')\n",
    "df_test = pd.read_csv('test_dataset.csv')"
   ]
  },
  {
   "cell_type": "code",
   "execution_count": 3,
   "metadata": {
    "collapsed": false
   },
   "outputs": [],
   "source": [
    "f =['sent_time', 'last_online', 'hacker_created_at', 'hacker_timezone', 'contest_login_count',\n",
    "    'contest_login_count_1_days', 'contest_login_count_1_days', 'contest_login_count_30_days',\n",
    "    'contest_login_count_365_days', 'contest_login_count_7_days', 'contest_participation_count',\n",
    "    'contest_participation_count_1_days', 'contest_participation_count_30_days', \n",
    "    'contest_participation_count_365_days', 'contest_participation_count_7_days',\n",
    "    'forum_comments_count', 'forum_count', 'forum_expert_count', 'forum_questions_count',\n",
    "    'hacker_confirmation', 'ipn_count', 'ipn_count_1_days', 'ipn_count_30_days',\n",
    "    'ipn_count_365_days', 'ipn_count_7_days', 'ipn_read', 'ipn_read_1_days', 'ipn_read_30_days',\n",
    "    'ipn_read_365_days','ipn_read_7_days', 'submissions_count', 'submissions_count_1_days',\n",
    "    'submissions_count_30_days', 'submissions_count_365_days', 'submissions_count_7_days',\n",
    "    'submissions_count_contest', 'submissions_count_contest_1_days',\n",
    "    'submissions_count_contest_30_days', 'submissions_count_contest_365_days',\n",
    "    'submissions_count_contest_7_days', 'submissions_count_master',\n",
    "    'submissions_count_master_1_days', 'submissions_count_master_30_days',\n",
    "    'submissions_count_master_365_days', 'submissions_count_master_7_days', 'clicked']\n",
    "df = df_train[f].astype('float64').dropna()"
   ]
  },
  {
   "cell_type": "code",
   "execution_count": 4,
   "metadata": {
    "collapsed": false
   },
   "outputs": [],
   "source": [
    "X_train, X_test, y_train, y_test = train_test_split(df[f], df['clicked'], test_size=0.2)"
   ]
  },
  {
   "cell_type": "code",
   "execution_count": 5,
   "metadata": {
    "collapsed": false
   },
   "outputs": [
    {
     "name": "stdout",
     "output_type": "stream",
     "text": [
      "0.944052254807 0.944684718566\n"
     ]
    }
   ],
   "source": [
    "lr = LogisticRegression()\n",
    "lr.fit(X_train, y_train)\n",
    "print(lr.score(X_train, y_train), lr.score(X_test, y_test))"
   ]
  },
  {
   "cell_type": "code",
   "execution_count": 6,
   "metadata": {
    "collapsed": false,
    "scrolled": true
   },
   "outputs": [
    {
     "name": "stdout",
     "output_type": "stream",
     "text": [
      "2049 39620 50808 3247 0.0491732462982 0.386895770393 0.0872564675822\n"
     ]
    }
   ],
   "source": [
    "prob = lr.predict_proba(X_test)[:, 1]\n",
    "cutoff = 0.055\n",
    "ground = (y_test == 1)\n",
    "pred = (prob > cutoff)\n",
    "TP = (pred & ground).sum()\n",
    "FP = (pred & ~ground).sum()\n",
    "TN = (~pred & ~ground).sum()\n",
    "FN = (~pred & ground).sum()\n",
    "P = TP / (TP + FP)\n",
    "R = TP / (TP + FN)\n",
    "S = 2 * P * R / (P + R)\n",
    "Rat = (FP + FN) / TP\n",
    "print(TP, FP, TN, FN, P, R, Rat, S)"
   ]
  },
  {
   "cell_type": "code",
   "execution_count": 7,
   "metadata": {
    "collapsed": false
   },
   "outputs": [
    {
     "name": "stdout",
     "output_type": "stream",
     "text": [
      "0.213500984791\n",
      "0.213907501058\n",
      "0.215172888404\n"
     ]
    }
   ],
   "source": [
    "print(log_loss(y_test, prob))\n",
    "print(log_loss(y_test, np.ones(y_test.shape) * y_test.mean()))\n",
    "print(log_loss(y_train, lr.predict_proba(X_train)[:, 1]))"
   ]
  }
 ],
 "metadata": {
  "kernelspec": {
   "display_name": "Python 3",
   "language": "python",
   "name": "python3"
  },
  "language_info": {
   "codemirror_mode": {
    "name": "ipython",
    "version": 3
   },
   "file_extension": ".py",
   "mimetype": "text/x-python",
   "name": "python",
   "nbconvert_exporter": "python",
   "pygments_lexer": "ipython3",
   "version": "3.5.1"
  }
 },
 "nbformat": 4,
 "nbformat_minor": 0
}
