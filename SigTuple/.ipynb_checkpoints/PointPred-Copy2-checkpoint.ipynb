{
 "cells": [
  {
   "cell_type": "code",
   "execution_count": 1,
   "metadata": {
    "collapsed": false
   },
   "outputs": [
    {
     "name": "stderr",
     "output_type": "stream",
     "text": [
      "Using Theano backend.\n",
      "Using gpu device 0: GRID K520 (CNMeM is enabled with initial size: 95.0% of memory, cuDNN 5105)\n",
      "/home/ubuntu/anaconda3/lib/python3.5/site-packages/theano/sandbox/cuda/__init__.py:600: UserWarning: Your cuDNN version is more recent than the one Theano officially supports. If you see any problems, try updating Theano or downgrading cuDNN to version 5.\n",
      "  warnings.warn(warn)\n"
     ]
    }
   ],
   "source": [
    "%matplotlib inline\n",
    "import numpy as np\n",
    "import pandas as pd\n",
    "\n",
    "import matplotlib.pyplot as plt\n",
    "\n",
    "from keras.models import Model\n",
    "from keras.layers import Dense, Activation, Input, merge\n",
    "from keras.layers.convolutional import Convolution2D, MaxPooling2D, UpSampling2D, ZeroPadding2D, Cropping2D\n",
    "from keras.models import load_model\n",
    "\n",
    "from sklearn.model_selection import train_test_split"
   ]
  },
  {
   "cell_type": "code",
   "execution_count": 2,
   "metadata": {
    "collapsed": false
   },
   "outputs": [],
   "source": [
    "images = np.load('images.npz')['arr_0'].transpose((0, 3, 1, 2))\n",
    "masks = np.expand_dims(np.load('masks.npz')['arr_0'], 1)\n",
    "nearX = np.expand_dims(np.load('nearX.npz')['arr_0'], 1)"
   ]
  },
  {
   "cell_type": "code",
   "execution_count": null,
   "metadata": {
    "collapsed": false
   },
   "outputs": [],
   "source": [
    "X_train, X_valid, Y_train, Y_valid = train_test_split(images, masks, test_size=0.33, random_state=42)"
   ]
  },
  {
   "cell_type": "code",
   "execution_count": 37,
   "metadata": {
    "collapsed": false
   },
   "outputs": [],
   "source": [
    "import theano\n",
    "import theano.tensor as T\n",
    "\n",
    "def obj(y_true, y_pred):\n",
    "    return (T.dot(T.flatten(y_true[:, 1]), T.sqr(T.flatten(y_pred[:, 0]) - T.flatten(y_true[:, 0]))) + 1) / (T.sum(y_true[:, 1]) + 1)"
   ]
  },
  {
   "cell_type": "code",
   "execution_count": 38,
   "metadata": {
    "collapsed": false
   },
   "outputs": [],
   "source": [
    "width = 407\n",
    "height = 439\n",
    "\n",
    "inputs = Input((3, width, height))\n",
    "padded = ZeroPadding2D((1, 0, 1, 0))(inputs)\n",
    "\n",
    "conv1 = Convolution2D(8, 3, 3, activation='relu', border_mode='same')(padded)\n",
    "conv1 = Convolution2D(8, 3, 3, activation='relu', border_mode='same')(conv1)\n",
    "pool1 = MaxPooling2D(pool_size=(2, 2))(conv1)\n",
    "\n",
    "conv2 = Convolution2D(16, 3, 3, activation='relu', border_mode='same')(pool1)\n",
    "conv2 = Convolution2D(16, 3, 3, activation='relu', border_mode='same')(conv2)\n",
    "pool2 = MaxPooling2D(pool_size=(2, 2))(conv2)\n",
    "\n",
    "conv3 = Convolution2D(32, 3, 3, activation='relu', border_mode='same')(pool2)\n",
    "conv3 = Convolution2D(32, 3, 3, activation='relu', border_mode='same')(conv3)\n",
    "pool3 = MaxPooling2D(pool_size=(2, 2))(conv3)\n",
    "\n",
    "conv5 = Convolution2D(64, 3, 3, activation='relu', border_mode='same')(pool3)\n",
    "conv5 = Convolution2D(64, 3, 3, activation='relu', border_mode='same')(conv5)\n",
    "\n",
    "up7 = merge([UpSampling2D(size=(2, 2))(conv5), conv3], mode='concat', concat_axis=1)\n",
    "conv7 = Convolution2D(32, 3, 3, activation='relu', border_mode='same')(up7)\n",
    "conv7 = Convolution2D(32, 3, 3, activation='relu', border_mode='same')(conv7)\n",
    "\n",
    "up8 = merge([UpSampling2D(size=(2, 2))(conv7), conv2], mode='concat', concat_axis=1)\n",
    "conv8 = Convolution2D(16, 3, 3, activation='relu', border_mode='same')(up8)\n",
    "conv8 = Convolution2D(16, 3, 3, activation='relu', border_mode='same')(conv8)\n",
    "\n",
    "up9 = merge([UpSampling2D(size=(2, 2))(conv8), conv1], mode='concat', concat_axis=1)\n",
    "conv9 = Convolution2D(8, 3, 3, activation='relu', border_mode='same')(up9)\n",
    "conv9 = Convolution2D(8, 3, 3, activation='relu', border_mode='same')(conv9)\n",
    "\n",
    "conv10 = Convolution2D(2, 1, 1, activation='linear')(conv9)\n",
    "out = Cropping2D(((1, 0), (1, 0)))(conv10)\n",
    "\n",
    "model = Model(input=inputs, output=out)\n",
    "\n",
    "model.compile(loss=obj, optimizer='adam')"
   ]
  },
  {
   "cell_type": "code",
   "execution_count": null,
   "metadata": {
    "collapsed": false,
    "scrolled": true
   },
   "outputs": [
    {
     "name": "stdout",
     "output_type": "stream",
     "text": [
      "Epoch 1/10\n",
      " 960/2000 [=============>................] - ETA: 153s - loss: 148.3826"
     ]
    }
   ],
   "source": [
    "model.fit(images, np.hstack((nearX, masks)), nb_epoch=10, batch_size=8, verbose=1)"
   ]
  },
  {
   "cell_type": "code",
   "execution_count": null,
   "metadata": {
    "collapsed": true
   },
   "outputs": [],
   "source": [
    "model.fit(X_train, Y_train, nb_epoch=10, batch_size=32, verbose=1, validation_data=(X_valid, Y_valid))"
   ]
  },
  {
   "cell_type": "code",
   "execution_count": null,
   "metadata": {
    "collapsed": false
   },
   "outputs": [],
   "source": [
    "plt.imshow(model.predict(images[1:2]).reshape((407, 439)), cmap='gray')"
   ]
  },
  {
   "cell_type": "code",
   "execution_count": null,
   "metadata": {
    "collapsed": false
   },
   "outputs": [],
   "source": [
    "plt.imshow(images[1].transpose((1, 2, 0)))"
   ]
  },
  {
   "cell_type": "code",
   "execution_count": null,
   "metadata": {
    "collapsed": true
   },
   "outputs": [],
   "source": [
    "model.save('model21')"
   ]
  },
  {
   "cell_type": "code",
   "execution_count": null,
   "metadata": {
    "collapsed": false
   },
   "outputs": [],
   "source": [
    "del X_valid, Y_valid"
   ]
  },
  {
   "cell_type": "code",
   "execution_count": 12,
   "metadata": {
    "collapsed": false
   },
   "outputs": [],
   "source": [
    "images = images[:2000]\n",
    "masks = masks[:2000]\n",
    "nearX = nearX[:2000]"
   ]
  },
  {
   "cell_type": "code",
   "execution_count": 44,
   "metadata": {
    "collapsed": false
   },
   "outputs": [
    {
     "data": {
      "text/plain": [
       "0"
      ]
     },
     "execution_count": 44,
     "metadata": {},
     "output_type": "execute_result"
    }
   ],
   "source": [
    "import gc\n",
    "gc.collect()"
   ]
  },
  {
   "cell_type": "code",
   "execution_count": null,
   "metadata": {
    "collapsed": true
   },
   "outputs": [],
   "source": []
  },
  {
   "cell_type": "code",
   "execution_count": null,
   "metadata": {
    "collapsed": true
   },
   "outputs": [],
   "source": []
  }
 ],
 "metadata": {
  "anaconda-cloud": {},
  "kernelspec": {
   "display_name": "Python [default]",
   "language": "python",
   "name": "python3"
  },
  "language_info": {
   "codemirror_mode": {
    "name": "ipython",
    "version": 3
   },
   "file_extension": ".py",
   "mimetype": "text/x-python",
   "name": "python",
   "nbconvert_exporter": "python",
   "pygments_lexer": "ipython3",
   "version": "3.5.2"
  }
 },
 "nbformat": 4,
 "nbformat_minor": 1
}
